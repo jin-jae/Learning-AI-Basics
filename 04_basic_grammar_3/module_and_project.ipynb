{
 "cells": [
  {
   "cell_type": "markdown",
   "metadata": {},
   "source": [
    "# Module and Project"
   ]
  },
  {
   "cell_type": "markdown",
   "metadata": {},
   "source": [
    "## Module\n",
    "- 프로그램에서 작은 프로그램 조각들\n",
    "- 프로그램 모듈화 시키면 다른 프로그램 개발에 용이 (API 등을 이용하여 모듈을 가져와 사용)\n",
    "- Python에서 Built-in-Module 등을 자유롭게 가져와서 사용 가능\n",
    "- 모듈을 모아서 프로그램 만듦"
   ]
  },
  {
   "cell_type": "markdown",
   "metadata": {},
   "source": [
    "- python에서는 Module == py 파일"
   ]
  },
  {
   "cell_type": "code",
   "execution_count": 1,
   "metadata": {},
   "outputs": [],
   "source": [
    "import test"
   ]
  },
  {
   "cell_type": "code",
   "execution_count": 3,
   "metadata": {},
   "outputs": [
    {
     "data": {
      "text/plain": [
       "'Hello'"
      ]
     },
     "execution_count": 3,
     "metadata": {},
     "output_type": "execute_result"
    }
   ],
   "source": [
    "test.hello_text()"
   ]
  },
  {
   "cell_type": "code",
   "execution_count": 4,
   "metadata": {},
   "outputs": [
    {
     "name": "stdout",
     "output_type": "stream",
     "text": [
      "Hello\n"
     ]
    }
   ],
   "source": [
    "!python module_ex.py"
   ]
  },
  {
   "cell_type": "markdown",
   "metadata": {},
   "source": [
    "## namespace\n",
    "- 모듈을 호출할 때 범위를 정하는 방법\n",
    "- 함수 클래스 등 존재 가능\n",
    "- from과 import 키워드를 사용"
   ]
  },
  {
   "cell_type": "code",
   "execution_count": 5,
   "metadata": {},
   "outputs": [
    {
     "data": {
      "text/plain": [
       "'Hello'"
      ]
     },
     "execution_count": 5,
     "metadata": {},
     "output_type": "execute_result"
    }
   ],
   "source": [
    "import test as ts\n",
    "\n",
    "ts.hello_text()"
   ]
  },
  {
   "cell_type": "code",
   "execution_count": 6,
   "metadata": {},
   "outputs": [
    {
     "data": {
      "text/plain": [
       "'Hello'"
      ]
     },
     "execution_count": 6,
     "metadata": {},
     "output_type": "execute_result"
    }
   ],
   "source": [
    "from test import hello_text\n",
    "\n",
    "hello_text()"
   ]
  },
  {
   "cell_type": "code",
   "execution_count": 7,
   "metadata": {},
   "outputs": [
    {
     "data": {
      "text/plain": [
       "'Hello'"
      ]
     },
     "execution_count": 7,
     "metadata": {},
     "output_type": "execute_result"
    }
   ],
   "source": [
    "from test import *\n",
    "\n",
    "hello_text()"
   ]
  },
  {
   "cell_type": "markdown",
   "metadata": {},
   "source": [
    "- 파이썬 모듈의 검색\n",
    "    - Google 등 검색 활용"
   ]
  },
  {
   "cell_type": "markdown",
   "metadata": {},
   "source": [
    "## Package\n",
    "- 하나의 대형 프로젝트를 만드는 코드 묶음\n",
    "- 다양한 모듈들의 합, 폴더로 연결됨"
   ]
  },
  {
   "cell_type": "code",
   "execution_count": 11,
   "metadata": {},
   "outputs": [
    {
     "name": "stdout",
     "output_type": "stream",
     "text": [
      "/Users/jinjae/Development/Learning-AI-Basics/02_python_adv/04_basic_grammar_3/package_ex/game\n"
     ]
    }
   ],
   "source": [
    "%cd package_ex/game"
   ]
  },
  {
   "cell_type": "code",
   "execution_count": 12,
   "metadata": {},
   "outputs": [
    {
     "data": {
      "text/plain": [
       "'Echo'"
      ]
     },
     "execution_count": 12,
     "metadata": {},
     "output_type": "execute_result"
    }
   ],
   "source": [
    "from sound import echo\n",
    "\n",
    "echo.echo_play()"
   ]
  },
  {
   "cell_type": "markdown",
   "metadata": {},
   "source": [
    "- \\_\\_init\\_\\_ : 현재 폴더가 패키지임을 알리는 초기화 스크립트"
   ]
  },
  {
   "cell_type": "code",
   "execution_count": 13,
   "metadata": {},
   "outputs": [
    {
     "name": "stdout",
     "output_type": "stream",
     "text": [
      "/Users/jinjae/Development/Learning-AI-Basics/02_python_adv/04_basic_grammar_3/package_ex\n"
     ]
    }
   ],
   "source": [
    "%cd .."
   ]
  },
  {
   "cell_type": "code",
   "execution_count": 14,
   "metadata": {},
   "outputs": [
    {
     "name": "stdout",
     "output_type": "stream",
     "text": [
      "Hello, Game\n",
      "Echo\n"
     ]
    }
   ],
   "source": [
    "!python game"
   ]
  },
  {
   "cell_type": "markdown",
   "metadata": {},
   "source": [
    "### package namespace\n",
    "- 상대 참조로 Package 내에서 다른 폴더의 모듈을 부를 수 있음\n",
    "- 절대 경로: `from game.graphic.render import render_test()`\n",
    "- 현재 경로: `from .render import render_test()`\n",
    "- 부모 경로: `from ..sound.echo import echo_test()`"
   ]
  },
  {
   "cell_type": "markdown",
   "metadata": {},
   "source": [
    "# Virtual Environment"
   ]
  },
  {
   "cell_type": "markdown",
   "metadata": {},
   "source": [
    "## virtualenv\n",
    "- virtualenv + pip: 가장 대표적인 가상환경 관리 도구\n",
    "- conda: 설치 용이"
   ]
  },
  {
   "cell_type": "code",
   "execution_count": 16,
   "metadata": {},
   "outputs": [
    {
     "name": "stdout",
     "output_type": "stream",
     "text": [
      "Channels:\n",
      " - defaults\n",
      "Platform: osx-arm64\n",
      "Collecting package metadata (repodata.json): done\n",
      "Solving environment: done\n",
      "\n",
      "## Package Plan ##\n",
      "\n",
      "  environment location: /opt/homebrew/anaconda3/envs/my_project\n",
      "\n",
      "  added / updated specs:\n",
      "    - python=3.9\n",
      "\n",
      "\n",
      "The following packages will be downloaded:\n",
      "\n",
      "    package                    |            build\n",
      "    ---------------------------|-----------------\n",
      "    openssl-3.0.14             |       h80987f9_0         4.3 MB\n",
      "    pip-24.0                   |   py39hca03da5_0         2.6 MB\n",
      "    python-3.9.19              |       hb885b13_1        11.7 MB\n",
      "    setuptools-69.5.1          |   py39hca03da5_0        1004 KB\n",
      "    wheel-0.43.0               |   py39hca03da5_0         107 KB\n",
      "    ------------------------------------------------------------\n",
      "                                           Total:        19.7 MB\n",
      "\n",
      "The following NEW packages will be INSTALLED:\n",
      "\n",
      "  ca-certificates    pkgs/main/osx-arm64::ca-certificates-2024.3.11-hca03da5_0 \n",
      "  libcxx             pkgs/main/osx-arm64::libcxx-14.0.6-h848a8c0_0 \n",
      "  libffi             pkgs/main/osx-arm64::libffi-3.4.4-hca03da5_1 \n",
      "  ncurses            pkgs/main/osx-arm64::ncurses-6.4-h313beb8_0 \n",
      "  openssl            pkgs/main/osx-arm64::openssl-3.0.14-h80987f9_0 \n",
      "  pip                pkgs/main/osx-arm64::pip-24.0-py39hca03da5_0 \n",
      "  python             pkgs/main/osx-arm64::python-3.9.19-hb885b13_1 \n",
      "  readline           pkgs/main/osx-arm64::readline-8.2-h1a28f6b_0 \n",
      "  setuptools         pkgs/main/osx-arm64::setuptools-69.5.1-py39hca03da5_0 \n",
      "  sqlite             pkgs/main/osx-arm64::sqlite-3.45.3-h80987f9_0 \n",
      "  tk                 pkgs/main/osx-arm64::tk-8.6.14-h6ba3021_0 \n",
      "  tzdata             pkgs/main/noarch::tzdata-2024a-h04d1e81_0 \n",
      "  wheel              pkgs/main/osx-arm64::wheel-0.43.0-py39hca03da5_0 \n",
      "  xz                 pkgs/main/osx-arm64::xz-5.4.6-h80987f9_1 \n",
      "  zlib               pkgs/main/osx-arm64::zlib-1.2.13-h18a0788_1 \n",
      "\n",
      "\n",
      "\n",
      "Downloading and Extracting Packages:\n",
      "python-3.9.19        | 11.7 MB   |                                       |   0% \n",
      "openssl-3.0.14       | 4.3 MB    |                                       |   0% \u001b[A\n",
      "\n",
      "pip-24.0             | 2.6 MB    |                                       |   0% \u001b[A\u001b[A\n",
      "\n",
      "\n",
      "setuptools-69.5.1    | 1004 KB   |                                       |   0% \u001b[A\u001b[A\u001b[A\n",
      "\n",
      "\n",
      "\n",
      "python-3.9.19        | 11.7 MB   |                                       |   0% \u001b[A\u001b[A\u001b[A\u001b[A\n",
      "openssl-3.0.14       | 4.3 MB    | 1                                     |   0% \u001b[A\n",
      "\n",
      "\n",
      "\n",
      "wheel-0.43.0         | 107 KB    | #####5                                |  15% \u001b[A\u001b[A\u001b[A\u001b[A\n",
      "\n",
      "pip-24.0             | 2.6 MB    | 2                                     |   1% \u001b[A\u001b[A\n",
      "\n",
      "\n",
      "setuptools-69.5.1    | 1004 KB   | 5                                     |   2% \u001b[A\u001b[A\u001b[A\n",
      "\n",
      "\n",
      "\n",
      "wheel-0.43.0         | 107 KB    | ##################################### | 100% \u001b[A\u001b[A\u001b[A\u001b[A\n",
      "python-3.9.19        | 11.7 MB   | 7                                     |   2% \u001b[A\n",
      "\n",
      "pip-24.0             | 2.6 MB    | ###3                                  |   9% \u001b[A\u001b[A\n",
      "\n",
      "\n",
      "setuptools-69.5.1    | 1004 KB   | #####3                                |  14% \u001b[A\u001b[A\u001b[A\n",
      "python-3.9.19        | 11.7 MB   | #2                                    |   3% \u001b[A\n",
      "\n",
      "pip-24.0             | 2.6 MB    | #####7                                |  16% \u001b[A\u001b[A\n",
      "\n",
      "\n",
      "setuptools-69.5.1    | 1004 KB   | ############3                         |  33% \u001b[A\u001b[A\u001b[A\n",
      "\n",
      "pip-24.0             | 2.6 MB    | #########5                            |  26% \u001b[A\u001b[A\n",
      "python-3.9.19        | 11.7 MB   | #7                                    |   5% \u001b[A\n",
      "\n",
      "python-3.9.19        | 11.7 MB   | ##6                                   |   7% \u001b[A\u001b[A\n",
      "openssl-3.0.14       | 4.3 MB    | ######7                               |  18% \u001b[A\n",
      "\n",
      "pip-24.0             | 2.6 MB    | ###################                   |  51% \u001b[A\u001b[A\n",
      "\n",
      "\n",
      "python-3.9.19        | 11.7 MB   | ###2                                  |   9% \u001b[A\u001b[A\u001b[A\n",
      "python-3.9.19        | 11.7 MB   | #####2                                |  14% \u001b[A\n",
      "python-3.9.19        | 11.7 MB   | ######3                               |  17% \u001b[A\n",
      "openssl-3.0.14       | 4.3 MB    | #################3                    |  47% \u001b[A\n",
      "\n",
      "\n",
      "setuptools-69.5.1    | 1004 KB   | ##################################### | 100% \u001b[A\u001b[A\u001b[A\n",
      "\n",
      "\n",
      "python-3.9.19        | 11.7 MB   | #######6                              |  21% \u001b[A\u001b[A\u001b[A\n",
      "python-3.9.19        | 11.7 MB   | ########9                             |  24% \u001b[A\n",
      "\n",
      "pip-24.0             | 2.6 MB    | ##################################### | 100% \u001b[A\u001b[A\n",
      "\n",
      "pip-24.0             | 2.6 MB    | ##################################### | 100% \u001b[A\u001b[A\n",
      "python-3.9.19        | 11.7 MB   | ##########2                           |  28% \u001b[A\n",
      "python-3.9.19        | 11.7 MB   | ###########7                          |  32% \u001b[A\n",
      "python-3.9.19        | 11.7 MB   | #############2                        |  36% \u001b[A\n",
      "python-3.9.19        | 11.7 MB   | ##############9                       |  40% \u001b[A\n",
      "                                                                                \u001b[A\n",
      "                                                                                \u001b[A\n",
      "\n",
      "                                                                                \u001b[A\u001b[A\n",
      "\n",
      "\n",
      "                                                                                \u001b[A\u001b[A\u001b[A\n",
      "\n",
      "\n",
      "\n",
      "                                                                                \u001b[A\u001b[A\u001b[A\u001b[A\n",
      "Preparing transaction: done\n",
      "Verifying transaction: done\n",
      "Executing transaction: done\n",
      "#\n",
      "# To activate this environment, use\n",
      "#\n",
      "#     $ conda activate my_project\n",
      "#\n",
      "# To deactivate an active environment, use\n",
      "#\n",
      "#     $ conda deactivate\n",
      "\n"
     ]
    }
   ],
   "source": [
    "!conda create -n my_project python=3.9 -y"
   ]
  },
  {
   "cell_type": "markdown",
   "metadata": {},
   "source": [
    "- windows에서는 컴파일된 게 있는지 확인 필요"
   ]
  },
  {
   "cell_type": "code",
   "execution_count": null,
   "metadata": {},
   "outputs": [],
   "source": []
  }
 ],
 "metadata": {
  "kernelspec": {
   "display_name": "base",
   "language": "python",
   "name": "python3"
  },
  "language_info": {
   "codemirror_mode": {
    "name": "ipython",
    "version": 3
   },
   "file_extension": ".py",
   "mimetype": "text/x-python",
   "name": "python",
   "nbconvert_exporter": "python",
   "pygments_lexer": "ipython3",
   "version": "3.11.5"
  }
 },
 "nbformat": 4,
 "nbformat_minor": 2
}
