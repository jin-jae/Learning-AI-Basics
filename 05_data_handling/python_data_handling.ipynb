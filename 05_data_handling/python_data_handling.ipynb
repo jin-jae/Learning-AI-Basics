{
 "cells": [
  {
   "cell_type": "markdown",
   "metadata": {},
   "source": [
    "# CSV"
   ]
  },
  {
   "cell_type": "markdown",
   "metadata": {},
   "source": [
    "## Comma Separate Value\n",
    "- 필드를 ,로 구분한 텍스트 파일\n",
    "- 엑셀 양식의 데이터를 프로그램에 상관없이 쓰기 위한 데이터 형식\n",
    "- 탭(tsv)이나 빈칸(ssv) 등으로 구분하기도 함"
   ]
  },
  {
   "cell_type": "code",
   "execution_count": 1,
   "metadata": {},
   "outputs": [
    {
     "name": "stdout",
     "output_type": "stream",
     "text": [
      "--2024-07-04 17:39:59--  https://bit.ly/3psoUZb\n",
      "Resolving bit.ly (bit.ly)... 67.199.248.10, 67.199.248.11\n",
      "Connecting to bit.ly (bit.ly)|67.199.248.10|:443... connected.\n",
      "HTTP request sent, awaiting response... 301 Moved Permanently\n",
      "Location: https://s3.ap-northeast-2.amazonaws.com/teamlab-gachon/customers.csv [following]\n",
      "--2024-07-04 17:39:59--  https://s3.ap-northeast-2.amazonaws.com/teamlab-gachon/customers.csv\n",
      "Resolving s3.ap-northeast-2.amazonaws.com (s3.ap-northeast-2.amazonaws.com)... 52.219.144.81, 52.219.204.69, 52.219.56.125, ...\n",
      "Connecting to s3.ap-northeast-2.amazonaws.com (s3.ap-northeast-2.amazonaws.com)|52.219.144.81|:443... connected.\n",
      "HTTP request sent, awaiting response... 200 OK\n",
      "Length: 14991 (15K) [application/octet-stream]\n",
      "Saving to: ‘3psoUZb’\n",
      "\n",
      "3psoUZb             100%[===================>]  14.64K  --.-KB/s    in 0s      \n",
      "\n",
      "2024-07-04 17:39:59 (201 MB/s) - ‘3psoUZb’ saved [14991/14991]\n",
      "\n"
     ]
    }
   ],
   "source": [
    "!wget https://bit.ly/3psoUZb"
   ]
  },
  {
   "cell_type": "code",
   "execution_count": 2,
   "metadata": {},
   "outputs": [
    {
     "name": "stdout",
     "output_type": "stream",
     "text": [
      "Header:\t ['customerNumber', 'customerName', 'contactLastName', 'contactFirstName', 'phone', 'addressLine1', 'addressLine2', 'city', 'state', 'postalCode', 'country', 'salesRepEmployeeNumber', 'creditLimit\\n']\n",
      "Data:\t\t ['112', '\"Signal Gift Stores\"', 'King', 'Jean', '7025551838', '\"8489 Strong St.\"', 'NULL', '\"Las Vegas\"', 'NV', '83030', 'USA', '1166', '71800\\n']\n",
      "Data:\t\t ['124', '\"Mini Gifts Distributors Ltd.\"', 'Nelson', 'Susan', '4155551450', '\"5677 Strong St.\"', 'NULL', '\"San Rafael\"', 'CA', '97562', 'USA', '1165', '210500\\n']\n",
      "Data:\t\t ['129', '\"Mini Wheels Co.\"', 'Murphy', 'Julie', '6505555787', '\"5557 North Pendale Street\"', 'NULL', '\"San Francisco\"', 'CA', '94217', 'USA', '1165', '64600\\n']\n",
      "Data:\t\t ['131', '\"Land of Toys Inc.\"', 'Lee', 'Kwai', '2125557818', '\"897 Long Airport Avenue\"', 'NULL', 'NYC', 'NY', '10022', 'USA', '1323', '114900\\n']\n",
      "Data:\t\t ['151', '\"Muscle Machine Inc\"', 'Young', 'Jeff', '2125557413', '\"4092 Furth Circle\"', '\"Suite 400\"', 'NYC', 'NY', '10022', 'USA', '1286', '138500\\n']\n",
      "Data:\t\t ['157', '\"Diecast Classics Inc.\"', 'Leong', 'Kelvin', '2155551555', '\"7586 Pompton St.\"', 'NULL', 'Allentown', 'PA', '70267', 'USA', '1216', '100600\\n']\n",
      "Data:\t\t ['161', '\"Technics Stores Inc.\"', 'Hashimoto', 'Juri', '6505556809', '\"9408 Furth Circle\"', 'NULL', 'Burlingame', 'CA', '94217', 'USA', '1165', '84600\\n']\n",
      "Data:\t\t ['168', '\"American Souvenirs Inc\"', 'Franco', 'Keith', '2035557845', '\"149 Spinnaker Dr.\"', '\"Suite 101\"', '\"New Haven\"', 'CT', '97823', 'USA', '1286', '0\\n']\n",
      "Data:\t\t ['173', '\"Cambridge Collectables Co.\"', 'Tseng', 'Jerry', '6175555555', '\"4658 Baden Av.\"', 'NULL', 'Cambridge', 'MA', '51247', 'USA', '1188', '43400\\n']\n",
      "Data:\t\t ['175', '\"Gift Depot Inc.\"', 'King', 'Julie', '2035552570', '\"25593 South Bay Ln.\"', 'NULL', 'Bridgewater', 'CT', '97562', 'USA', '1323', '84300\\n']\n",
      "34\n"
     ]
    }
   ],
   "source": [
    "line_counter = 0\n",
    "data_header = []\n",
    "employee = []\n",
    "customer_USA_only_list = []\n",
    "customer = None\n",
    "\n",
    "\n",
    "with open(\"3psoUZb\") as customer_data:\n",
    "    while True:\n",
    "        data = customer_data.readline()\n",
    "        if not data:\n",
    "            break\n",
    "        if line_counter == 0:\n",
    "            data_header = data.split(\",\")\n",
    "        else:\n",
    "            customer = data.split(\",\")\n",
    "            if customer[10].upper() == \"USA\":\n",
    "                customer_USA_only_list.append(customer)\n",
    "        line_counter += 1\n",
    "\n",
    "print(\"Header:\\t\", data_header)\n",
    "for i in range(0, 10):\n",
    "    print(\"Data:\\t\\t\", customer_USA_only_list[i])\n",
    "print(len(customer_USA_only_list))"
   ]
  },
  {
   "cell_type": "markdown",
   "metadata": {},
   "source": [
    "- csv의 문제\n",
    "    - Text 파일 형태로 데이터 처리 시 문장 내 들어가 있는 \",\"에 대해 전처리 필요\n",
    "    - Python에서는 csv 객체 제공"
   ]
  },
  {
   "cell_type": "markdown",
   "metadata": {},
   "source": [
    "# Web"
   ]
  },
  {
   "cell_type": "markdown",
   "metadata": {},
   "source": [
    "- www, 인터넷 공간의 정식 명칭\n",
    "- 데이터 송수신을 위해 HTTP 프로토콜, 데이터 표시를 위해 HTML 형식 사용\n",
    "- 요청 -> 처리 -> 응답 -> 렌더링"
   ]
  },
  {
   "cell_type": "markdown",
   "metadata": {},
   "source": [
    "## HTML\n",
    "- 웹상 정보를 구조적으로 표현\n",
    "- Tag 사용\n",
    "- 꺾쇠 괄호 안에 둘러싸여 있음"
   ]
  },
  {
   "cell_type": "markdown",
   "metadata": {},
   "source": [
    "- 많은 데이터가 웹을 통해 공유됨\n",
    "- 생성 규칙에 맞추어 생성되므로, 데이터의 추출이 가능\n",
    "- 추출된 데이터를 바탕으로 다양한 분석 가능"
   ]
  },
  {
   "cell_type": "markdown",
   "metadata": {},
   "source": [
    "## 정규식\n",
    "- 복잡한 문자열 패턴을 정의하는 문자 표현 공식\n",
    "- HTML 역시 정규식 패턴을 통해 추출 가능"
   ]
  },
  {
   "cell_type": "markdown",
   "metadata": {},
   "source": [
    "- 문자 클래스: [a-zA-Z]\n",
    "- 반복 횟수: {}\n",
    "- ?: 반복 횟수 1회\n",
    "- |: or"
   ]
  },
  {
   "cell_type": "code",
   "execution_count": 4,
   "metadata": {},
   "outputs": [],
   "source": [
    "text = \"\"\"<html>\n",
    "<h1>Hello</h1>\n",
    "<h2>World</h2>\n",
    "<h1>Second Hello</h1>\n",
    "</html>\"\"\""
   ]
  },
  {
   "cell_type": "code",
   "execution_count": 6,
   "metadata": {},
   "outputs": [],
   "source": [
    "import re\n",
    "\n",
    "h1_results = re.findall(r\"<h1>(.+)</h1>\", text)"
   ]
  },
  {
   "cell_type": "code",
   "execution_count": 7,
   "metadata": {},
   "outputs": [
    {
     "data": {
      "text/plain": [
       "['Hello', 'Second Hello']"
      ]
     },
     "execution_count": 7,
     "metadata": {},
     "output_type": "execute_result"
    }
   ],
   "source": [
    "h1_results"
   ]
  },
  {
   "cell_type": "markdown",
   "metadata": {},
   "source": [
    "# eXtensible Markup Language"
   ]
  },
  {
   "cell_type": "markdown",
   "metadata": {},
   "source": [
    "- 데이터의 구조와 의미를 설명하는 TAG를 사용하여 표시하는 언어\n",
    "- PC 스마트폰 간의 정보를 주고받기 매우 유용한 저장방식"
   ]
  },
  {
   "cell_type": "markdown",
   "metadata": {},
   "source": [
    "- BeautifulSoup\n",
    "    - HTML, XML 등 마크업 언어 Scraping을 위한 도구\n",
    "    - 간편하게 사용 가능"
   ]
  },
  {
   "cell_type": "code",
   "execution_count": 9,
   "metadata": {},
   "outputs": [
    {
     "name": "stdout",
     "output_type": "stream",
     "text": [
      "\u001b[33mWARNING: Skipping /opt/homebrew/anaconda3/lib/python3.11/site-packages/google_pasta-0.2.0.dist-info due to invalid metadata entry 'name'\u001b[0m\u001b[33m\n",
      "\u001b[0m\u001b[33mWARNING: Skipping /opt/homebrew/anaconda3/lib/python3.11/site-packages/google_pasta-0.2.0.dist-info due to invalid metadata entry 'name'\u001b[0m\u001b[33m\n",
      "\u001b[0mRequirement already satisfied: lxml in /opt/homebrew/anaconda3/lib/python3.11/site-packages (4.9.3)\n",
      "\u001b[33mWARNING: Skipping /opt/homebrew/anaconda3/lib/python3.11/site-packages/google_pasta-0.2.0.dist-info due to invalid metadata entry 'name'\u001b[0m\u001b[33m\n",
      "\u001b[0m\u001b[33mWARNING: Skipping /opt/homebrew/anaconda3/lib/python3.11/site-packages/google_pasta-0.2.0.dist-info due to invalid metadata entry 'name'\u001b[0m\u001b[33m\n",
      "\u001b[0m\u001b[33mWARNING: Skipping /opt/homebrew/anaconda3/lib/python3.11/site-packages/google_pasta-0.2.0.dist-info due to invalid metadata entry 'name'\u001b[0m\u001b[33m\n",
      "\u001b[0m\u001b[33mWARNING: Skipping /opt/homebrew/anaconda3/lib/python3.11/site-packages/google_pasta-0.2.0.dist-info due to invalid metadata entry 'name'\u001b[0m\u001b[33m\n",
      "\u001b[0mNote: you may need to restart the kernel to use updated packages.\n"
     ]
    }
   ],
   "source": [
    "%pip install lxml"
   ]
  },
  {
   "cell_type": "code",
   "execution_count": 11,
   "metadata": {},
   "outputs": [
    {
     "name": "stdout",
     "output_type": "stream",
     "text": [
      "\u001b[33mWARNING: Skipping /opt/homebrew/anaconda3/lib/python3.11/site-packages/google_pasta-0.2.0.dist-info due to invalid metadata entry 'name'\u001b[0m\u001b[33m\n",
      "\u001b[0m\u001b[33mWARNING: Skipping /opt/homebrew/anaconda3/lib/python3.11/site-packages/google_pasta-0.2.0.dist-info due to invalid metadata entry 'name'\u001b[0m\u001b[33m\n",
      "\u001b[0mRequirement already satisfied: beautifulsoup4 in /opt/homebrew/anaconda3/lib/python3.11/site-packages (4.12.2)\n",
      "Requirement already satisfied: soupsieve>1.2 in /opt/homebrew/anaconda3/lib/python3.11/site-packages (from beautifulsoup4) (2.5)\n",
      "\u001b[33mWARNING: Skipping /opt/homebrew/anaconda3/lib/python3.11/site-packages/google_pasta-0.2.0.dist-info due to invalid metadata entry 'name'\u001b[0m\u001b[33m\n",
      "\u001b[0m\u001b[33mWARNING: Skipping /opt/homebrew/anaconda3/lib/python3.11/site-packages/google_pasta-0.2.0.dist-info due to invalid metadata entry 'name'\u001b[0m\u001b[33m\n",
      "\u001b[0m\u001b[33mWARNING: Skipping /opt/homebrew/anaconda3/lib/python3.11/site-packages/google_pasta-0.2.0.dist-info due to invalid metadata entry 'name'\u001b[0m\u001b[33m\n",
      "\u001b[0m\u001b[33mWARNING: Skipping /opt/homebrew/anaconda3/lib/python3.11/site-packages/google_pasta-0.2.0.dist-info due to invalid metadata entry 'name'\u001b[0m\u001b[33m\n",
      "\u001b[0mNote: you may need to restart the kernel to use updated packages.\n"
     ]
    }
   ],
   "source": [
    "%pip install beautifulsoup4"
   ]
  },
  {
   "cell_type": "code",
   "execution_count": 13,
   "metadata": {},
   "outputs": [
    {
     "name": "stdout",
     "output_type": "stream",
     "text": [
      "--2024-07-04 19:38:21--  https://s3.ap-northeast-2.amazonaws.com/teamlab-gachon/books.xml\n",
      "Resolving s3.ap-northeast-2.amazonaws.com (s3.ap-northeast-2.amazonaws.com)... 52.219.144.69, 52.219.144.24, 52.219.58.129, ...\n",
      "Connecting to s3.ap-northeast-2.amazonaws.com (s3.ap-northeast-2.amazonaws.com)|52.219.144.69|:443... connected.\n",
      "HTTP request sent, awaiting response... 200 OK\n",
      "Length: 514 [text/xml]\n",
      "Saving to: ‘books.xml’\n",
      "\n",
      "books.xml           100%[===================>]     514  --.-KB/s    in 0s      \n",
      "\n",
      "2024-07-04 19:38:21 (21.3 MB/s) - ‘books.xml’ saved [514/514]\n",
      "\n"
     ]
    }
   ],
   "source": [
    "!wget https://s3.ap-northeast-2.amazonaws.com/teamlab-gachon/books.xml"
   ]
  },
  {
   "cell_type": "code",
   "execution_count": 17,
   "metadata": {},
   "outputs": [
    {
     "name": "stdout",
     "output_type": "stream",
     "text": [
      "<author>Carson</author>\n",
      "Carson\n",
      "<author>Sungchul</author>\n",
      "Sungchul\n"
     ]
    }
   ],
   "source": [
    "from bs4 import BeautifulSoup\n",
    "\n",
    "with open(\"books.xml\", \"r\", encoding=\"utf8\") as books_file:\n",
    "    books_xml = books_file.read()\n",
    "\n",
    "soup = BeautifulSoup(books_xml, \"lxml\")\n",
    "\n",
    "for book_info in soup.find_all(\"author\"):\n",
    "    print(book_info)\n",
    "    print(book_info.get_text())"
   ]
  },
  {
   "cell_type": "markdown",
   "metadata": {},
   "source": [
    "# JSON"
   ]
  },
  {
   "cell_type": "markdown",
   "metadata": {},
   "source": [
    "- JavaScript Object Notation\n",
    "- JavaScript의 데이터 객체 표현 방식\n",
    "- 간결성, 데이터 용량이 적음\n",
    "- key:value 쌍으로 데이터 표시\n",
    "- (Python) 데이터 저장 및 읽기는 dict type와 상호 호환 가능"
   ]
  },
  {
   "cell_type": "code",
   "execution_count": 18,
   "metadata": {},
   "outputs": [],
   "source": [
    "import json"
   ]
  },
  {
   "cell_type": "code",
   "execution_count": 19,
   "metadata": {},
   "outputs": [
    {
     "data": {
      "text/plain": [
       "{'name': 'Jinjae', 'last_name': 'Kim'}"
      ]
     },
     "execution_count": 19,
     "metadata": {},
     "output_type": "execute_result"
    }
   ],
   "source": [
    "with open(\"test.json\", \"r\") as f:\n",
    "    test = json.load(f)\n",
    "\n",
    "test"
   ]
  },
  {
   "cell_type": "markdown",
   "metadata": {},
   "source": []
  }
 ],
 "metadata": {
  "kernelspec": {
   "display_name": "base",
   "language": "python",
   "name": "python3"
  },
  "language_info": {
   "codemirror_mode": {
    "name": "ipython",
    "version": 3
   },
   "file_extension": ".py",
   "mimetype": "text/x-python",
   "name": "python",
   "nbconvert_exporter": "python",
   "pygments_lexer": "ipython3",
   "version": "3.11.5"
  }
 },
 "nbformat": 4,
 "nbformat_minor": 2
}
